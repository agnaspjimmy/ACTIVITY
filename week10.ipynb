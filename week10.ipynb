{
 "cells": [
  {
   "cell_type": "markdown",
   "id": "96810d1d",
   "metadata": {},
   "source": [
    "# ACTIVITY-10"
   ]
  },
  {
   "cell_type": "code",
   "execution_count": 1,
   "id": "09336fd5",
   "metadata": {},
   "outputs": [],
   "source": [
    "# import libraries\n",
    "import numpy as np\n",
    "import pandas as pd\n",
    "import seaborn as sns\n",
    "import matplotlib.pyplot as plt\n",
    "\n",
    "\n",
    "import warnings\n",
    "warnings.filterwarnings('ignore')"
   ]
  },
  {
   "cell_type": "markdown",
   "id": "588b6d55",
   "metadata": {},
   "source": [
    "# 1. Load the data into the pandas environment and identify some basic details of the dataset."
   ]
  },
  {
   "cell_type": "code",
   "execution_count": 2,
   "id": "7f055959",
   "metadata": {},
   "outputs": [
    {
     "data": {
      "text/html": [
       "<div>\n",
       "<style scoped>\n",
       "    .dataframe tbody tr th:only-of-type {\n",
       "        vertical-align: middle;\n",
       "    }\n",
       "\n",
       "    .dataframe tbody tr th {\n",
       "        vertical-align: top;\n",
       "    }\n",
       "\n",
       "    .dataframe thead th {\n",
       "        text-align: right;\n",
       "    }\n",
       "</style>\n",
       "<table border=\"1\" class=\"dataframe\">\n",
       "  <thead>\n",
       "    <tr style=\"text-align: right;\">\n",
       "      <th></th>\n",
       "      <th>name</th>\n",
       "      <th>age</th>\n",
       "      <th>income</th>\n",
       "      <th>gender</th>\n",
       "      <th>department</th>\n",
       "      <th>grade</th>\n",
       "      <th>performance_score</th>\n",
       "    </tr>\n",
       "  </thead>\n",
       "  <tbody>\n",
       "    <tr>\n",
       "      <th>0</th>\n",
       "      <td>Allen Smith</td>\n",
       "      <td>45.0</td>\n",
       "      <td>NaN</td>\n",
       "      <td>NaN</td>\n",
       "      <td>Operations</td>\n",
       "      <td>G3</td>\n",
       "      <td>723</td>\n",
       "    </tr>\n",
       "    <tr>\n",
       "      <th>1</th>\n",
       "      <td>S Kumar</td>\n",
       "      <td>NaN</td>\n",
       "      <td>16000.0</td>\n",
       "      <td>F</td>\n",
       "      <td>Finance</td>\n",
       "      <td>G0</td>\n",
       "      <td>520</td>\n",
       "    </tr>\n",
       "    <tr>\n",
       "      <th>2</th>\n",
       "      <td>Jack Morgan</td>\n",
       "      <td>32.0</td>\n",
       "      <td>35000.0</td>\n",
       "      <td>M</td>\n",
       "      <td>Finance</td>\n",
       "      <td>G2</td>\n",
       "      <td>674</td>\n",
       "    </tr>\n",
       "    <tr>\n",
       "      <th>3</th>\n",
       "      <td>Ying Chin</td>\n",
       "      <td>45.0</td>\n",
       "      <td>65000.0</td>\n",
       "      <td>F</td>\n",
       "      <td>Sales</td>\n",
       "      <td>G3</td>\n",
       "      <td>556</td>\n",
       "    </tr>\n",
       "    <tr>\n",
       "      <th>4</th>\n",
       "      <td>Dheeraj Patel</td>\n",
       "      <td>30.0</td>\n",
       "      <td>42000.0</td>\n",
       "      <td>F</td>\n",
       "      <td>Operations</td>\n",
       "      <td>G2</td>\n",
       "      <td>711</td>\n",
       "    </tr>\n",
       "    <tr>\n",
       "      <th>5</th>\n",
       "      <td>Satyam Sharma</td>\n",
       "      <td>NaN</td>\n",
       "      <td>62000.0</td>\n",
       "      <td>NaN</td>\n",
       "      <td>Sales</td>\n",
       "      <td>G3</td>\n",
       "      <td>649</td>\n",
       "    </tr>\n",
       "    <tr>\n",
       "      <th>6</th>\n",
       "      <td>James Authur</td>\n",
       "      <td>54.0</td>\n",
       "      <td>NaN</td>\n",
       "      <td>F</td>\n",
       "      <td>Operations</td>\n",
       "      <td>G3</td>\n",
       "      <td>53</td>\n",
       "    </tr>\n",
       "    <tr>\n",
       "      <th>7</th>\n",
       "      <td>Josh Wills</td>\n",
       "      <td>54.0</td>\n",
       "      <td>52000.0</td>\n",
       "      <td>F</td>\n",
       "      <td>Finance</td>\n",
       "      <td>G3</td>\n",
       "      <td>901</td>\n",
       "    </tr>\n",
       "    <tr>\n",
       "      <th>8</th>\n",
       "      <td>Leo Duck</td>\n",
       "      <td>23.0</td>\n",
       "      <td>98000.0</td>\n",
       "      <td>M</td>\n",
       "      <td>Sales</td>\n",
       "      <td>G4</td>\n",
       "      <td>709</td>\n",
       "    </tr>\n",
       "  </tbody>\n",
       "</table>\n",
       "</div>"
      ],
      "text/plain": [
       "            name   age   income gender  department grade  performance_score\n",
       "0    Allen Smith  45.0      NaN    NaN  Operations    G3                723\n",
       "1        S Kumar   NaN  16000.0      F     Finance    G0                520\n",
       "2    Jack Morgan  32.0  35000.0      M     Finance    G2                674\n",
       "3      Ying Chin  45.0  65000.0      F       Sales    G3                556\n",
       "4  Dheeraj Patel  30.0  42000.0      F  Operations    G2                711\n",
       "5  Satyam Sharma   NaN  62000.0    NaN       Sales    G3                649\n",
       "6   James Authur  54.0      NaN      F  Operations    G3                 53\n",
       "7     Josh Wills  54.0  52000.0      F     Finance    G3                901\n",
       "8       Leo Duck  23.0  98000.0      M       Sales    G4                709"
      ]
     },
     "execution_count": 2,
     "metadata": {},
     "output_type": "execute_result"
    }
   ],
   "source": [
    "#read the dataset\n",
    "data=pd.read_csv(r\"C:\\Users\\HP\\Downloads\\employee.csv\")\n",
    "data"
   ]
  },
  {
   "cell_type": "code",
   "execution_count": 3,
   "id": "c1be50f7",
   "metadata": {},
   "outputs": [
    {
     "data": {
      "text/html": [
       "<div>\n",
       "<style scoped>\n",
       "    .dataframe tbody tr th:only-of-type {\n",
       "        vertical-align: middle;\n",
       "    }\n",
       "\n",
       "    .dataframe tbody tr th {\n",
       "        vertical-align: top;\n",
       "    }\n",
       "\n",
       "    .dataframe thead th {\n",
       "        text-align: right;\n",
       "    }\n",
       "</style>\n",
       "<table border=\"1\" class=\"dataframe\">\n",
       "  <thead>\n",
       "    <tr style=\"text-align: right;\">\n",
       "      <th></th>\n",
       "      <th>age</th>\n",
       "      <th>income</th>\n",
       "      <th>performance_score</th>\n",
       "    </tr>\n",
       "  </thead>\n",
       "  <tbody>\n",
       "    <tr>\n",
       "      <th>count</th>\n",
       "      <td>7.000000</td>\n",
       "      <td>7.000000</td>\n",
       "      <td>9.000000</td>\n",
       "    </tr>\n",
       "    <tr>\n",
       "      <th>mean</th>\n",
       "      <td>40.428571</td>\n",
       "      <td>52857.142857</td>\n",
       "      <td>610.666667</td>\n",
       "    </tr>\n",
       "    <tr>\n",
       "      <th>std</th>\n",
       "      <td>12.204605</td>\n",
       "      <td>26028.372797</td>\n",
       "      <td>235.671912</td>\n",
       "    </tr>\n",
       "    <tr>\n",
       "      <th>min</th>\n",
       "      <td>23.000000</td>\n",
       "      <td>16000.000000</td>\n",
       "      <td>53.000000</td>\n",
       "    </tr>\n",
       "    <tr>\n",
       "      <th>25%</th>\n",
       "      <td>31.000000</td>\n",
       "      <td>38500.000000</td>\n",
       "      <td>556.000000</td>\n",
       "    </tr>\n",
       "    <tr>\n",
       "      <th>50%</th>\n",
       "      <td>45.000000</td>\n",
       "      <td>52000.000000</td>\n",
       "      <td>674.000000</td>\n",
       "    </tr>\n",
       "    <tr>\n",
       "      <th>75%</th>\n",
       "      <td>49.500000</td>\n",
       "      <td>63500.000000</td>\n",
       "      <td>711.000000</td>\n",
       "    </tr>\n",
       "    <tr>\n",
       "      <th>max</th>\n",
       "      <td>54.000000</td>\n",
       "      <td>98000.000000</td>\n",
       "      <td>901.000000</td>\n",
       "    </tr>\n",
       "  </tbody>\n",
       "</table>\n",
       "</div>"
      ],
      "text/plain": [
       "             age        income  performance_score\n",
       "count   7.000000      7.000000           9.000000\n",
       "mean   40.428571  52857.142857         610.666667\n",
       "std    12.204605  26028.372797         235.671912\n",
       "min    23.000000  16000.000000          53.000000\n",
       "25%    31.000000  38500.000000         556.000000\n",
       "50%    45.000000  52000.000000         674.000000\n",
       "75%    49.500000  63500.000000         711.000000\n",
       "max    54.000000  98000.000000         901.000000"
      ]
     },
     "execution_count": 3,
     "metadata": {},
     "output_type": "execute_result"
    }
   ],
   "source": [
    "data.describe()"
   ]
  },
  {
   "cell_type": "markdown",
   "id": "b5caeae5",
   "metadata": {},
   "source": [
    "# 2. Reset the index as \"name\" as the index."
   ]
  },
  {
   "cell_type": "code",
   "execution_count": 4,
   "id": "12dce8c3",
   "metadata": {},
   "outputs": [],
   "source": [
    "data.set_index('name',inplace=True)\n"
   ]
  },
  {
   "cell_type": "code",
   "execution_count": 5,
   "id": "e53e9647",
   "metadata": {},
   "outputs": [
    {
     "data": {
      "text/html": [
       "<div>\n",
       "<style scoped>\n",
       "    .dataframe tbody tr th:only-of-type {\n",
       "        vertical-align: middle;\n",
       "    }\n",
       "\n",
       "    .dataframe tbody tr th {\n",
       "        vertical-align: top;\n",
       "    }\n",
       "\n",
       "    .dataframe thead th {\n",
       "        text-align: right;\n",
       "    }\n",
       "</style>\n",
       "<table border=\"1\" class=\"dataframe\">\n",
       "  <thead>\n",
       "    <tr style=\"text-align: right;\">\n",
       "      <th></th>\n",
       "      <th>age</th>\n",
       "      <th>income</th>\n",
       "      <th>gender</th>\n",
       "      <th>department</th>\n",
       "      <th>grade</th>\n",
       "      <th>performance_score</th>\n",
       "    </tr>\n",
       "    <tr>\n",
       "      <th>name</th>\n",
       "      <th></th>\n",
       "      <th></th>\n",
       "      <th></th>\n",
       "      <th></th>\n",
       "      <th></th>\n",
       "      <th></th>\n",
       "    </tr>\n",
       "  </thead>\n",
       "  <tbody>\n",
       "    <tr>\n",
       "      <th>Allen Smith</th>\n",
       "      <td>45.0</td>\n",
       "      <td>NaN</td>\n",
       "      <td>NaN</td>\n",
       "      <td>Operations</td>\n",
       "      <td>G3</td>\n",
       "      <td>723</td>\n",
       "    </tr>\n",
       "    <tr>\n",
       "      <th>S Kumar</th>\n",
       "      <td>NaN</td>\n",
       "      <td>16000.0</td>\n",
       "      <td>F</td>\n",
       "      <td>Finance</td>\n",
       "      <td>G0</td>\n",
       "      <td>520</td>\n",
       "    </tr>\n",
       "    <tr>\n",
       "      <th>Jack Morgan</th>\n",
       "      <td>32.0</td>\n",
       "      <td>35000.0</td>\n",
       "      <td>M</td>\n",
       "      <td>Finance</td>\n",
       "      <td>G2</td>\n",
       "      <td>674</td>\n",
       "    </tr>\n",
       "    <tr>\n",
       "      <th>Ying Chin</th>\n",
       "      <td>45.0</td>\n",
       "      <td>65000.0</td>\n",
       "      <td>F</td>\n",
       "      <td>Sales</td>\n",
       "      <td>G3</td>\n",
       "      <td>556</td>\n",
       "    </tr>\n",
       "    <tr>\n",
       "      <th>Dheeraj Patel</th>\n",
       "      <td>30.0</td>\n",
       "      <td>42000.0</td>\n",
       "      <td>F</td>\n",
       "      <td>Operations</td>\n",
       "      <td>G2</td>\n",
       "      <td>711</td>\n",
       "    </tr>\n",
       "  </tbody>\n",
       "</table>\n",
       "</div>"
      ],
      "text/plain": [
       "                age   income gender  department grade  performance_score\n",
       "name                                                                    \n",
       "Allen Smith    45.0      NaN    NaN  Operations    G3                723\n",
       "S Kumar         NaN  16000.0      F     Finance    G0                520\n",
       "Jack Morgan    32.0  35000.0      M     Finance    G2                674\n",
       "Ying Chin      45.0  65000.0      F       Sales    G3                556\n",
       "Dheeraj Patel  30.0  42000.0      F  Operations    G2                711"
      ]
     },
     "execution_count": 5,
     "metadata": {},
     "output_type": "execute_result"
    }
   ],
   "source": [
    "data.head()"
   ]
  },
  {
   "cell_type": "markdown",
   "id": "046f7e30",
   "metadata": {},
   "source": [
    "# 3. Select rows for specific names Jack Morgan and Josh wills"
   ]
  },
  {
   "cell_type": "code",
   "execution_count": 6,
   "id": "a73bb86c",
   "metadata": {},
   "outputs": [
    {
     "data": {
      "text/html": [
       "<div>\n",
       "<style scoped>\n",
       "    .dataframe tbody tr th:only-of-type {\n",
       "        vertical-align: middle;\n",
       "    }\n",
       "\n",
       "    .dataframe tbody tr th {\n",
       "        vertical-align: top;\n",
       "    }\n",
       "\n",
       "    .dataframe thead th {\n",
       "        text-align: right;\n",
       "    }\n",
       "</style>\n",
       "<table border=\"1\" class=\"dataframe\">\n",
       "  <thead>\n",
       "    <tr style=\"text-align: right;\">\n",
       "      <th></th>\n",
       "      <th>age</th>\n",
       "      <th>income</th>\n",
       "      <th>gender</th>\n",
       "      <th>department</th>\n",
       "      <th>grade</th>\n",
       "      <th>performance_score</th>\n",
       "    </tr>\n",
       "    <tr>\n",
       "      <th>name</th>\n",
       "      <th></th>\n",
       "      <th></th>\n",
       "      <th></th>\n",
       "      <th></th>\n",
       "      <th></th>\n",
       "      <th></th>\n",
       "    </tr>\n",
       "  </thead>\n",
       "  <tbody>\n",
       "    <tr>\n",
       "      <th>Jack Morgan</th>\n",
       "      <td>32.0</td>\n",
       "      <td>35000.0</td>\n",
       "      <td>M</td>\n",
       "      <td>Finance</td>\n",
       "      <td>G2</td>\n",
       "      <td>674</td>\n",
       "    </tr>\n",
       "    <tr>\n",
       "      <th>Josh Wills</th>\n",
       "      <td>54.0</td>\n",
       "      <td>52000.0</td>\n",
       "      <td>F</td>\n",
       "      <td>Finance</td>\n",
       "      <td>G3</td>\n",
       "      <td>901</td>\n",
       "    </tr>\n",
       "  </tbody>\n",
       "</table>\n",
       "</div>"
      ],
      "text/plain": [
       "              age   income gender department grade  performance_score\n",
       "name                                                                 \n",
       "Jack Morgan  32.0  35000.0      M    Finance    G2                674\n",
       "Josh Wills   54.0  52000.0      F    Finance    G3                901"
      ]
     },
     "execution_count": 6,
     "metadata": {},
     "output_type": "execute_result"
    }
   ],
   "source": [
    "data1=data.loc[['Jack Morgan','Josh Wills']]\n",
    "data1"
   ]
  },
  {
   "cell_type": "markdown",
   "id": "8476ceb7",
   "metadata": {},
   "source": [
    "# 4. Select data for multiple values \"Sales\" and “Finance”."
   ]
  },
  {
   "cell_type": "code",
   "execution_count": 7,
   "id": "ed0afdcf",
   "metadata": {},
   "outputs": [
    {
     "data": {
      "text/html": [
       "<div>\n",
       "<style scoped>\n",
       "    .dataframe tbody tr th:only-of-type {\n",
       "        vertical-align: middle;\n",
       "    }\n",
       "\n",
       "    .dataframe tbody tr th {\n",
       "        vertical-align: top;\n",
       "    }\n",
       "\n",
       "    .dataframe thead th {\n",
       "        text-align: right;\n",
       "    }\n",
       "</style>\n",
       "<table border=\"1\" class=\"dataframe\">\n",
       "  <thead>\n",
       "    <tr style=\"text-align: right;\">\n",
       "      <th></th>\n",
       "      <th>age</th>\n",
       "      <th>income</th>\n",
       "      <th>gender</th>\n",
       "      <th>department</th>\n",
       "      <th>grade</th>\n",
       "      <th>performance_score</th>\n",
       "    </tr>\n",
       "    <tr>\n",
       "      <th>name</th>\n",
       "      <th></th>\n",
       "      <th></th>\n",
       "      <th></th>\n",
       "      <th></th>\n",
       "      <th></th>\n",
       "      <th></th>\n",
       "    </tr>\n",
       "  </thead>\n",
       "  <tbody>\n",
       "    <tr>\n",
       "      <th>S Kumar</th>\n",
       "      <td>NaN</td>\n",
       "      <td>16000.0</td>\n",
       "      <td>F</td>\n",
       "      <td>Finance</td>\n",
       "      <td>G0</td>\n",
       "      <td>520</td>\n",
       "    </tr>\n",
       "    <tr>\n",
       "      <th>Jack Morgan</th>\n",
       "      <td>32.0</td>\n",
       "      <td>35000.0</td>\n",
       "      <td>M</td>\n",
       "      <td>Finance</td>\n",
       "      <td>G2</td>\n",
       "      <td>674</td>\n",
       "    </tr>\n",
       "    <tr>\n",
       "      <th>Ying Chin</th>\n",
       "      <td>45.0</td>\n",
       "      <td>65000.0</td>\n",
       "      <td>F</td>\n",
       "      <td>Sales</td>\n",
       "      <td>G3</td>\n",
       "      <td>556</td>\n",
       "    </tr>\n",
       "    <tr>\n",
       "      <th>Satyam Sharma</th>\n",
       "      <td>NaN</td>\n",
       "      <td>62000.0</td>\n",
       "      <td>NaN</td>\n",
       "      <td>Sales</td>\n",
       "      <td>G3</td>\n",
       "      <td>649</td>\n",
       "    </tr>\n",
       "    <tr>\n",
       "      <th>Josh Wills</th>\n",
       "      <td>54.0</td>\n",
       "      <td>52000.0</td>\n",
       "      <td>F</td>\n",
       "      <td>Finance</td>\n",
       "      <td>G3</td>\n",
       "      <td>901</td>\n",
       "    </tr>\n",
       "    <tr>\n",
       "      <th>Leo Duck</th>\n",
       "      <td>23.0</td>\n",
       "      <td>98000.0</td>\n",
       "      <td>M</td>\n",
       "      <td>Sales</td>\n",
       "      <td>G4</td>\n",
       "      <td>709</td>\n",
       "    </tr>\n",
       "  </tbody>\n",
       "</table>\n",
       "</div>"
      ],
      "text/plain": [
       "                age   income gender department grade  performance_score\n",
       "name                                                                   \n",
       "S Kumar         NaN  16000.0      F    Finance    G0                520\n",
       "Jack Morgan    32.0  35000.0      M    Finance    G2                674\n",
       "Ying Chin      45.0  65000.0      F      Sales    G3                556\n",
       "Satyam Sharma   NaN  62000.0    NaN      Sales    G3                649\n",
       "Josh Wills     54.0  52000.0      F    Finance    G3                901\n",
       "Leo Duck       23.0  98000.0      M      Sales    G4                709"
      ]
     },
     "execution_count": 7,
     "metadata": {},
     "output_type": "execute_result"
    }
   ],
   "source": [
    "data[(data['department']=='Finance') | (data['department']=='Sales')]"
   ]
  },
  {
   "cell_type": "markdown",
   "id": "d081d5ca",
   "metadata": {},
   "source": [
    "# 5. Display employee who has more than 700 performance score."
   ]
  },
  {
   "cell_type": "code",
   "execution_count": 8,
   "id": "b7b45d13",
   "metadata": {},
   "outputs": [
    {
     "data": {
      "text/html": [
       "<div>\n",
       "<style scoped>\n",
       "    .dataframe tbody tr th:only-of-type {\n",
       "        vertical-align: middle;\n",
       "    }\n",
       "\n",
       "    .dataframe tbody tr th {\n",
       "        vertical-align: top;\n",
       "    }\n",
       "\n",
       "    .dataframe thead th {\n",
       "        text-align: right;\n",
       "    }\n",
       "</style>\n",
       "<table border=\"1\" class=\"dataframe\">\n",
       "  <thead>\n",
       "    <tr style=\"text-align: right;\">\n",
       "      <th></th>\n",
       "      <th>age</th>\n",
       "      <th>income</th>\n",
       "      <th>gender</th>\n",
       "      <th>department</th>\n",
       "      <th>grade</th>\n",
       "      <th>performance_score</th>\n",
       "    </tr>\n",
       "    <tr>\n",
       "      <th>name</th>\n",
       "      <th></th>\n",
       "      <th></th>\n",
       "      <th></th>\n",
       "      <th></th>\n",
       "      <th></th>\n",
       "      <th></th>\n",
       "    </tr>\n",
       "  </thead>\n",
       "  <tbody>\n",
       "    <tr>\n",
       "      <th>Allen Smith</th>\n",
       "      <td>45.0</td>\n",
       "      <td>NaN</td>\n",
       "      <td>NaN</td>\n",
       "      <td>Operations</td>\n",
       "      <td>G3</td>\n",
       "      <td>723</td>\n",
       "    </tr>\n",
       "    <tr>\n",
       "      <th>Dheeraj Patel</th>\n",
       "      <td>30.0</td>\n",
       "      <td>42000.0</td>\n",
       "      <td>F</td>\n",
       "      <td>Operations</td>\n",
       "      <td>G2</td>\n",
       "      <td>711</td>\n",
       "    </tr>\n",
       "    <tr>\n",
       "      <th>Josh Wills</th>\n",
       "      <td>54.0</td>\n",
       "      <td>52000.0</td>\n",
       "      <td>F</td>\n",
       "      <td>Finance</td>\n",
       "      <td>G3</td>\n",
       "      <td>901</td>\n",
       "    </tr>\n",
       "    <tr>\n",
       "      <th>Leo Duck</th>\n",
       "      <td>23.0</td>\n",
       "      <td>98000.0</td>\n",
       "      <td>M</td>\n",
       "      <td>Sales</td>\n",
       "      <td>G4</td>\n",
       "      <td>709</td>\n",
       "    </tr>\n",
       "  </tbody>\n",
       "</table>\n",
       "</div>"
      ],
      "text/plain": [
       "                age   income gender  department grade  performance_score\n",
       "name                                                                    \n",
       "Allen Smith    45.0      NaN    NaN  Operations    G3                723\n",
       "Dheeraj Patel  30.0  42000.0      F  Operations    G2                711\n",
       "Josh Wills     54.0  52000.0      F     Finance    G3                901\n",
       "Leo Duck       23.0  98000.0      M       Sales    G4                709"
      ]
     },
     "execution_count": 8,
     "metadata": {},
     "output_type": "execute_result"
    }
   ],
   "source": [
    "data[data['performance_score']>700]\n"
   ]
  },
  {
   "cell_type": "markdown",
   "id": "cd33a294",
   "metadata": {},
   "source": [
    "# 6. Display employee who has more than 500 and less than 700 performance score"
   ]
  },
  {
   "cell_type": "code",
   "execution_count": 9,
   "id": "5159bf2b",
   "metadata": {},
   "outputs": [
    {
     "data": {
      "text/html": [
       "<div>\n",
       "<style scoped>\n",
       "    .dataframe tbody tr th:only-of-type {\n",
       "        vertical-align: middle;\n",
       "    }\n",
       "\n",
       "    .dataframe tbody tr th {\n",
       "        vertical-align: top;\n",
       "    }\n",
       "\n",
       "    .dataframe thead th {\n",
       "        text-align: right;\n",
       "    }\n",
       "</style>\n",
       "<table border=\"1\" class=\"dataframe\">\n",
       "  <thead>\n",
       "    <tr style=\"text-align: right;\">\n",
       "      <th></th>\n",
       "      <th>age</th>\n",
       "      <th>income</th>\n",
       "      <th>gender</th>\n",
       "      <th>department</th>\n",
       "      <th>grade</th>\n",
       "      <th>performance_score</th>\n",
       "    </tr>\n",
       "    <tr>\n",
       "      <th>name</th>\n",
       "      <th></th>\n",
       "      <th></th>\n",
       "      <th></th>\n",
       "      <th></th>\n",
       "      <th></th>\n",
       "      <th></th>\n",
       "    </tr>\n",
       "  </thead>\n",
       "  <tbody>\n",
       "    <tr>\n",
       "      <th>S Kumar</th>\n",
       "      <td>NaN</td>\n",
       "      <td>16000.0</td>\n",
       "      <td>F</td>\n",
       "      <td>Finance</td>\n",
       "      <td>G0</td>\n",
       "      <td>520</td>\n",
       "    </tr>\n",
       "    <tr>\n",
       "      <th>Jack Morgan</th>\n",
       "      <td>32.0</td>\n",
       "      <td>35000.0</td>\n",
       "      <td>M</td>\n",
       "      <td>Finance</td>\n",
       "      <td>G2</td>\n",
       "      <td>674</td>\n",
       "    </tr>\n",
       "    <tr>\n",
       "      <th>Ying Chin</th>\n",
       "      <td>45.0</td>\n",
       "      <td>65000.0</td>\n",
       "      <td>F</td>\n",
       "      <td>Sales</td>\n",
       "      <td>G3</td>\n",
       "      <td>556</td>\n",
       "    </tr>\n",
       "    <tr>\n",
       "      <th>Satyam Sharma</th>\n",
       "      <td>NaN</td>\n",
       "      <td>62000.0</td>\n",
       "      <td>NaN</td>\n",
       "      <td>Sales</td>\n",
       "      <td>G3</td>\n",
       "      <td>649</td>\n",
       "    </tr>\n",
       "  </tbody>\n",
       "</table>\n",
       "</div>"
      ],
      "text/plain": [
       "                age   income gender department grade  performance_score\n",
       "name                                                                   \n",
       "S Kumar         NaN  16000.0      F    Finance    G0                520\n",
       "Jack Morgan    32.0  35000.0      M    Finance    G2                674\n",
       "Ying Chin      45.0  65000.0      F      Sales    G3                556\n",
       "Satyam Sharma   NaN  62000.0    NaN      Sales    G3                649"
      ]
     },
     "execution_count": 9,
     "metadata": {},
     "output_type": "execute_result"
    }
   ],
   "source": [
    "data[(data['performance_score']<700) & (data['performance_score']>500)]"
   ]
  },
  {
   "cell_type": "markdown",
   "id": "1ea929d1",
   "metadata": {},
   "source": [
    "# 7. Check and handle missing values in the dataset."
   ]
  },
  {
   "cell_type": "code",
   "execution_count": 10,
   "id": "a4cf58f2",
   "metadata": {},
   "outputs": [
    {
     "data": {
      "text/plain": [
       "age                  2\n",
       "income               2\n",
       "gender               2\n",
       "department           0\n",
       "grade                0\n",
       "performance_score    0\n",
       "dtype: int64"
      ]
     },
     "execution_count": 10,
     "metadata": {},
     "output_type": "execute_result"
    }
   ],
   "source": [
    "# checking null values\n",
    "data.isna().sum()"
   ]
  },
  {
   "cell_type": "markdown",
   "id": "9f5c65bf",
   "metadata": {},
   "source": [
    "Here, we can conclude that age,income,gender having missing values.\n",
    "\n",
    "we need to find normal distribution or not"
   ]
  },
  {
   "cell_type": "code",
   "execution_count": 11,
   "id": "59fc1b64",
   "metadata": {},
   "outputs": [
    {
     "data": {
      "image/png": "[encoded data removed]",
      "text/plain": [
       "<Figure size 432x288 with 1 Axes>"
      ]
     },
     "metadata": {
      "needs_background": "light"
     },
     "output_type": "display_data"
    }
   ],
   "source": [
    "# plotting distplot\n",
    "sns.distplot(data.age)\n",
    "plt.show()"
   ]
  },
  {
   "cell_type": "code",
   "execution_count": 26,
   "id": "e7cf1dba",
   "metadata": {},
   "outputs": [
    {
     "data": {
      "image/png": "[encoded data removed]",
      "text/plain": [
       "<Figure size 432x288 with 1 Axes>"
      ]
     },
     "metadata": {
      "needs_background": "light"
     },
     "output_type": "display_data"
    }
   ],
   "source": [
    "sns.distplot(data.income)\n",
    "plt.show()"
   ]
  },
  {
   "cell_type": "markdown",
   "id": "304ab0f2",
   "metadata": {},
   "source": [
    "Here, data has a small skewness. So mean cannot be used for replacing the missing values.\n",
    "Thus median can be used to fill the missing values"
   ]
  },
  {
   "cell_type": "code",
   "execution_count": 14,
   "id": "2cd0bb7a",
   "metadata": {},
   "outputs": [],
   "source": [
    "data['age'].fillna(data['age'].median(),inplace=True)"
   ]
  },
  {
   "cell_type": "code",
   "execution_count": 15,
   "id": "5e530078",
   "metadata": {},
   "outputs": [],
   "source": [
    "data['income'].fillna(data['income'].mean(),inplace=True)\n"
   ]
  },
  {
   "cell_type": "code",
   "execution_count": 16,
   "id": "c75db7ed",
   "metadata": {},
   "outputs": [
    {
     "data": {
      "text/plain": [
       "0    F\n",
       "dtype: object"
      ]
     },
     "execution_count": 16,
     "metadata": {},
     "output_type": "execute_result"
    }
   ],
   "source": [
    "data['gender'].mode()"
   ]
  },
  {
   "cell_type": "code",
   "execution_count": 17,
   "id": "cce1c668",
   "metadata": {},
   "outputs": [],
   "source": [
    "data['gender'].fillna('F',inplace=True)"
   ]
  },
  {
   "cell_type": "code",
   "execution_count": 18,
   "id": "30f6fc4c",
   "metadata": {},
   "outputs": [
    {
     "data": {
      "text/plain": [
       "age                  0\n",
       "income               0\n",
       "gender               0\n",
       "department           0\n",
       "grade                0\n",
       "performance_score    0\n",
       "dtype: int64"
      ]
     },
     "execution_count": 18,
     "metadata": {},
     "output_type": "execute_result"
    }
   ],
   "source": [
    "# Again checking any null values\n",
    "data.isna().sum()"
   ]
  },
  {
   "cell_type": "markdown",
   "id": "dfc79331",
   "metadata": {},
   "source": [
    "There are no null values in the dataset, hence it is clean."
   ]
  },
  {
   "cell_type": "markdown",
   "id": "fcb865cf",
   "metadata": {},
   "source": [
    "# 8. Check the outliers and handle outliers in performance score using Percentiles."
   ]
  },
  {
   "cell_type": "code",
   "execution_count": 19,
   "id": "03037178",
   "metadata": {},
   "outputs": [
    {
     "data": {
      "text/plain": [
       "<AxesSubplot:xlabel='performance_score'>"
      ]
     },
     "execution_count": 19,
     "metadata": {},
     "output_type": "execute_result"
    },
    {
     "data": {
      "image/png": "[encoded data removed]",
      "text/plain": [
       "<Figure size 432x288 with 1 Axes>"
      ]
     },
     "metadata": {
      "needs_background": "light"
     },
     "output_type": "display_data"
    }
   ],
   "source": [
    "# plotting boxplot\n",
    "sns.boxplot(data['performance_score'])"
   ]
  },
  {
   "cell_type": "markdown",
   "id": "bab40bf3",
   "metadata": {},
   "source": [
    "There is a outlier in performance score"
   ]
  },
  {
   "cell_type": "code",
   "execution_count": 20,
   "id": "c530e038",
   "metadata": {},
   "outputs": [
    {
     "name": "stdout",
     "output_type": "stream",
     "text": [
      "323.5 943.5\n"
     ]
    },
    {
     "data": {
      "text/plain": [
       "[53]"
      ]
     },
     "execution_count": 20,
     "metadata": {},
     "output_type": "execute_result"
    }
   ],
   "source": [
    "ps=data['performance_score']\n",
    "q1=np.percentile(ps,25)\n",
    "q3=np.percentile(ps,75)\n",
    "IQR=q3-q1\n",
    "LQR=q1-1.5*(IQR)\n",
    "UQR=q3+1.5*(IQR)\n",
    "print(LQR,UQR)\n",
    "outliers = []\n",
    "for i in ps: \n",
    "        if (i<IQR) | (i>UQR):\n",
    "            outliers.append(i)\n",
    "outliers"
   ]
  },
  {
   "cell_type": "markdown",
   "id": "ffee3459",
   "metadata": {},
   "source": [
    "So, 53 is the outlier in performance score.\n",
    "But we do not drop or change,because size of dataset is small."
   ]
  },
  {
   "cell_type": "markdown",
   "id": "33640898",
   "metadata": {},
   "source": [
    "# 9. Check the gender column and do Dummy encoding."
   ]
  },
  {
   "cell_type": "code",
   "execution_count": 21,
   "id": "f0e4d983",
   "metadata": {},
   "outputs": [
    {
     "data": {
      "text/plain": [
       "name\n",
       "Allen Smith      F\n",
       "S Kumar          F\n",
       "Jack Morgan      M\n",
       "Ying Chin        F\n",
       "Dheeraj Patel    F\n",
       "Satyam Sharma    F\n",
       "James Authur     F\n",
       "Josh Wills       F\n",
       "Leo Duck         M\n",
       "Name: gender, dtype: object"
      ]
     },
     "execution_count": 21,
     "metadata": {},
     "output_type": "execute_result"
    }
   ],
   "source": [
    "data['gender']"
   ]
  },
  {
   "cell_type": "code",
   "execution_count": 22,
   "id": "edc00813",
   "metadata": {},
   "outputs": [
    {
     "data": {
      "text/html": [
       "<div>\n",
       "<style scoped>\n",
       "    .dataframe tbody tr th:only-of-type {\n",
       "        vertical-align: middle;\n",
       "    }\n",
       "\n",
       "    .dataframe tbody tr th {\n",
       "        vertical-align: top;\n",
       "    }\n",
       "\n",
       "    .dataframe thead th {\n",
       "        text-align: right;\n",
       "    }\n",
       "</style>\n",
       "<table border=\"1\" class=\"dataframe\">\n",
       "  <thead>\n",
       "    <tr style=\"text-align: right;\">\n",
       "      <th></th>\n",
       "      <th>age</th>\n",
       "      <th>income</th>\n",
       "      <th>department</th>\n",
       "      <th>grade</th>\n",
       "      <th>performance_score</th>\n",
       "      <th>gender_F</th>\n",
       "      <th>gender_M</th>\n",
       "    </tr>\n",
       "    <tr>\n",
       "      <th>name</th>\n",
       "      <th></th>\n",
       "      <th></th>\n",
       "      <th></th>\n",
       "      <th></th>\n",
       "      <th></th>\n",
       "      <th></th>\n",
       "      <th></th>\n",
       "    </tr>\n",
       "  </thead>\n",
       "  <tbody>\n",
       "    <tr>\n",
       "      <th>Allen Smith</th>\n",
       "      <td>45.0</td>\n",
       "      <td>52857.142857</td>\n",
       "      <td>Operations</td>\n",
       "      <td>G3</td>\n",
       "      <td>723</td>\n",
       "      <td>1</td>\n",
       "      <td>0</td>\n",
       "    </tr>\n",
       "    <tr>\n",
       "      <th>S Kumar</th>\n",
       "      <td>45.0</td>\n",
       "      <td>16000.000000</td>\n",
       "      <td>Finance</td>\n",
       "      <td>G0</td>\n",
       "      <td>520</td>\n",
       "      <td>1</td>\n",
       "      <td>0</td>\n",
       "    </tr>\n",
       "    <tr>\n",
       "      <th>Jack Morgan</th>\n",
       "      <td>32.0</td>\n",
       "      <td>35000.000000</td>\n",
       "      <td>Finance</td>\n",
       "      <td>G2</td>\n",
       "      <td>674</td>\n",
       "      <td>0</td>\n",
       "      <td>1</td>\n",
       "    </tr>\n",
       "    <tr>\n",
       "      <th>Ying Chin</th>\n",
       "      <td>45.0</td>\n",
       "      <td>65000.000000</td>\n",
       "      <td>Sales</td>\n",
       "      <td>G3</td>\n",
       "      <td>556</td>\n",
       "      <td>1</td>\n",
       "      <td>0</td>\n",
       "    </tr>\n",
       "    <tr>\n",
       "      <th>Dheeraj Patel</th>\n",
       "      <td>30.0</td>\n",
       "      <td>42000.000000</td>\n",
       "      <td>Operations</td>\n",
       "      <td>G2</td>\n",
       "      <td>711</td>\n",
       "      <td>1</td>\n",
       "      <td>0</td>\n",
       "    </tr>\n",
       "    <tr>\n",
       "      <th>Satyam Sharma</th>\n",
       "      <td>45.0</td>\n",
       "      <td>62000.000000</td>\n",
       "      <td>Sales</td>\n",
       "      <td>G3</td>\n",
       "      <td>649</td>\n",
       "      <td>1</td>\n",
       "      <td>0</td>\n",
       "    </tr>\n",
       "    <tr>\n",
       "      <th>James Authur</th>\n",
       "      <td>54.0</td>\n",
       "      <td>52857.142857</td>\n",
       "      <td>Operations</td>\n",
       "      <td>G3</td>\n",
       "      <td>53</td>\n",
       "      <td>1</td>\n",
       "      <td>0</td>\n",
       "    </tr>\n",
       "    <tr>\n",
       "      <th>Josh Wills</th>\n",
       "      <td>54.0</td>\n",
       "      <td>52000.000000</td>\n",
       "      <td>Finance</td>\n",
       "      <td>G3</td>\n",
       "      <td>901</td>\n",
       "      <td>1</td>\n",
       "      <td>0</td>\n",
       "    </tr>\n",
       "    <tr>\n",
       "      <th>Leo Duck</th>\n",
       "      <td>23.0</td>\n",
       "      <td>98000.000000</td>\n",
       "      <td>Sales</td>\n",
       "      <td>G4</td>\n",
       "      <td>709</td>\n",
       "      <td>0</td>\n",
       "      <td>1</td>\n",
       "    </tr>\n",
       "  </tbody>\n",
       "</table>\n",
       "</div>"
      ],
      "text/plain": [
       "                age        income  department grade  performance_score  \\\n",
       "name                                                                     \n",
       "Allen Smith    45.0  52857.142857  Operations    G3                723   \n",
       "S Kumar        45.0  16000.000000     Finance    G0                520   \n",
       "Jack Morgan    32.0  35000.000000     Finance    G2                674   \n",
       "Ying Chin      45.0  65000.000000       Sales    G3                556   \n",
       "Dheeraj Patel  30.0  42000.000000  Operations    G2                711   \n",
       "Satyam Sharma  45.0  62000.000000       Sales    G3                649   \n",
       "James Authur   54.0  52857.142857  Operations    G3                 53   \n",
       "Josh Wills     54.0  52000.000000     Finance    G3                901   \n",
       "Leo Duck       23.0  98000.000000       Sales    G4                709   \n",
       "\n",
       "               gender_F  gender_M  \n",
       "name                               \n",
       "Allen Smith           1         0  \n",
       "S Kumar               1         0  \n",
       "Jack Morgan           0         1  \n",
       "Ying Chin             1         0  \n",
       "Dheeraj Patel         1         0  \n",
       "Satyam Sharma         1         0  \n",
       "James Authur          1         0  \n",
       "Josh Wills            1         0  \n",
       "Leo Duck              0         1  "
      ]
     },
     "execution_count": 22,
     "metadata": {},
     "output_type": "execute_result"
    }
   ],
   "source": [
    "pd.get_dummies(data,columns=[\"gender\"])"
   ]
  },
  {
   "cell_type": "markdown",
   "id": "d43c0d50",
   "metadata": {},
   "source": [
    "# 10. Do the standard scaling on the feature performance score."
   ]
  },
  {
   "cell_type": "code",
   "execution_count": 23,
   "id": "e2607259",
   "metadata": {},
   "outputs": [],
   "source": [
    "from sklearn import preprocessing"
   ]
  },
  {
   "cell_type": "code",
   "execution_count": 24,
   "id": "1d67b150",
   "metadata": {},
   "outputs": [
    {
     "data": {
      "text/html": [
       "<div>\n",
       "<style scoped>\n",
       "    .dataframe tbody tr th:only-of-type {\n",
       "        vertical-align: middle;\n",
       "    }\n",
       "\n",
       "    .dataframe tbody tr th {\n",
       "        vertical-align: top;\n",
       "    }\n",
       "\n",
       "    .dataframe thead th {\n",
       "        text-align: right;\n",
       "    }\n",
       "</style>\n",
       "<table border=\"1\" class=\"dataframe\">\n",
       "  <thead>\n",
       "    <tr style=\"text-align: right;\">\n",
       "      <th></th>\n",
       "      <th>age</th>\n",
       "      <th>income</th>\n",
       "      <th>gender</th>\n",
       "      <th>department</th>\n",
       "      <th>grade</th>\n",
       "      <th>performance_score</th>\n",
       "    </tr>\n",
       "    <tr>\n",
       "      <th>name</th>\n",
       "      <th></th>\n",
       "      <th></th>\n",
       "      <th></th>\n",
       "      <th></th>\n",
       "      <th></th>\n",
       "      <th></th>\n",
       "    </tr>\n",
       "  </thead>\n",
       "  <tbody>\n",
       "    <tr>\n",
       "      <th>Allen Smith</th>\n",
       "      <td>45.0</td>\n",
       "      <td>52857.142857</td>\n",
       "      <td>F</td>\n",
       "      <td>Operations</td>\n",
       "      <td>G3</td>\n",
       "      <td>0.505565</td>\n",
       "    </tr>\n",
       "    <tr>\n",
       "      <th>S Kumar</th>\n",
       "      <td>45.0</td>\n",
       "      <td>16000.000000</td>\n",
       "      <td>F</td>\n",
       "      <td>Finance</td>\n",
       "      <td>G0</td>\n",
       "      <td>-0.408053</td>\n",
       "    </tr>\n",
       "    <tr>\n",
       "      <th>Jack Morgan</th>\n",
       "      <td>32.0</td>\n",
       "      <td>35000.000000</td>\n",
       "      <td>M</td>\n",
       "      <td>Finance</td>\n",
       "      <td>G2</td>\n",
       "      <td>0.285037</td>\n",
       "    </tr>\n",
       "    <tr>\n",
       "      <th>Ying Chin</th>\n",
       "      <td>45.0</td>\n",
       "      <td>65000.000000</td>\n",
       "      <td>F</td>\n",
       "      <td>Sales</td>\n",
       "      <td>G3</td>\n",
       "      <td>-0.246032</td>\n",
       "    </tr>\n",
       "    <tr>\n",
       "      <th>Dheeraj Patel</th>\n",
       "      <td>30.0</td>\n",
       "      <td>42000.000000</td>\n",
       "      <td>F</td>\n",
       "      <td>Operations</td>\n",
       "      <td>G2</td>\n",
       "      <td>0.451558</td>\n",
       "    </tr>\n",
       "    <tr>\n",
       "      <th>Satyam Sharma</th>\n",
       "      <td>45.0</td>\n",
       "      <td>62000.000000</td>\n",
       "      <td>F</td>\n",
       "      <td>Sales</td>\n",
       "      <td>G3</td>\n",
       "      <td>0.172522</td>\n",
       "    </tr>\n",
       "    <tr>\n",
       "      <th>James Authur</th>\n",
       "      <td>54.0</td>\n",
       "      <td>52857.142857</td>\n",
       "      <td>F</td>\n",
       "      <td>Operations</td>\n",
       "      <td>G3</td>\n",
       "      <td>-2.509823</td>\n",
       "    </tr>\n",
       "    <tr>\n",
       "      <th>Josh Wills</th>\n",
       "      <td>54.0</td>\n",
       "      <td>52000.000000</td>\n",
       "      <td>F</td>\n",
       "      <td>Finance</td>\n",
       "      <td>G3</td>\n",
       "      <td>1.306668</td>\n",
       "    </tr>\n",
       "    <tr>\n",
       "      <th>Leo Duck</th>\n",
       "      <td>23.0</td>\n",
       "      <td>98000.000000</td>\n",
       "      <td>M</td>\n",
       "      <td>Sales</td>\n",
       "      <td>G4</td>\n",
       "      <td>0.442557</td>\n",
       "    </tr>\n",
       "  </tbody>\n",
       "</table>\n",
       "</div>"
      ],
      "text/plain": [
       "                age        income gender  department grade  performance_score\n",
       "name                                                                         \n",
       "Allen Smith    45.0  52857.142857      F  Operations    G3           0.505565\n",
       "S Kumar        45.0  16000.000000      F     Finance    G0          -0.408053\n",
       "Jack Morgan    32.0  35000.000000      M     Finance    G2           0.285037\n",
       "Ying Chin      45.0  65000.000000      F       Sales    G3          -0.246032\n",
       "Dheeraj Patel  30.0  42000.000000      F  Operations    G2           0.451558\n",
       "Satyam Sharma  45.0  62000.000000      F       Sales    G3           0.172522\n",
       "James Authur   54.0  52857.142857      F  Operations    G3          -2.509823\n",
       "Josh Wills     54.0  52000.000000      F     Finance    G3           1.306668\n",
       "Leo Duck       23.0  98000.000000      M       Sales    G4           0.442557"
      ]
     },
     "execution_count": 24,
     "metadata": {},
     "output_type": "execute_result"
    }
   ],
   "source": [
    "# standard scaling in performance score\n",
    "scale=preprocessing.StandardScaler()\n",
    "scaled_data=scale.fit_transform(data[['performance_score']])\n",
    "data['performance_score']=scaled_data\n",
    "data"
   ]
  },
  {
   "cell_type": "code",
   "execution_count": null,
   "id": "9bdfb345",
   "metadata": {},
   "outputs": [],
   "source": []
  }
 ],
 "metadata": {
  "kernelspec": {
   "display_name": "Python 3",
   "language": "python",
   "name": "python3"
  },
  "language_info": {
   "codemirror_mode": {
    "name": "ipython",
    "version": 3
   },
   "file_extension": ".py",
   "mimetype": "text/x-python",
   "name": "python",
   "nbconvert_exporter": "python",
   "pygments_lexer": "ipython3",
   "version": "3.8.8"
  }
 },
 "nbformat": 4,
 "nbformat_minor": 5
}
