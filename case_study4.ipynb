{
 "cells": [
  {
   "cell_type": "markdown",
   "id": "00c4cba3",
   "metadata": {},
   "source": [
    "# Case Study on Testing of Hypothesis"
   ]
  },
  {
   "cell_type": "code",
   "execution_count": 27,
   "id": "f1392652",
   "metadata": {},
   "outputs": [],
   "source": [
    "# import libraries\n",
    "import numpy as np\n",
    "import pandas as pd\n",
    "import seaborn as sns\n",
    "import matplotlib.pyplot as plt\n",
    "import scipy.stats as stats\n",
    "\n",
    "\n",
    "import warnings\n",
    "warnings.filterwarnings('ignore')"
   ]
  },
  {
   "cell_type": "code",
   "execution_count": 28,
   "id": "5015ef1a",
   "metadata": {},
   "outputs": [],
   "source": [
    "#read the dataset\n",
    "data=pd.read_csv('Sales_add.csv')"
   ]
  },
  {
   "cell_type": "code",
   "execution_count": 29,
   "id": "73fa6137",
   "metadata": {},
   "outputs": [
    {
     "data": {
      "text/html": [
       "<div>\n",
       "<style scoped>\n",
       "    .dataframe tbody tr th:only-of-type {\n",
       "        vertical-align: middle;\n",
       "    }\n",
       "\n",
       "    .dataframe tbody tr th {\n",
       "        vertical-align: top;\n",
       "    }\n",
       "\n",
       "    .dataframe thead th {\n",
       "        text-align: right;\n",
       "    }\n",
       "</style>\n",
       "<table border=\"1\" class=\"dataframe\">\n",
       "  <thead>\n",
       "    <tr style=\"text-align: right;\">\n",
       "      <th></th>\n",
       "      <th>Month</th>\n",
       "      <th>Region</th>\n",
       "      <th>Manager</th>\n",
       "      <th>Sales_before_digital_add(in $)</th>\n",
       "      <th>Sales_After_digital_add(in $)</th>\n",
       "    </tr>\n",
       "  </thead>\n",
       "  <tbody>\n",
       "    <tr>\n",
       "      <th>0</th>\n",
       "      <td>Month-1</td>\n",
       "      <td>Region - A</td>\n",
       "      <td>Manager - A</td>\n",
       "      <td>132921</td>\n",
       "      <td>270390</td>\n",
       "    </tr>\n",
       "    <tr>\n",
       "      <th>1</th>\n",
       "      <td>Month-2</td>\n",
       "      <td>Region - A</td>\n",
       "      <td>Manager - C</td>\n",
       "      <td>149559</td>\n",
       "      <td>223334</td>\n",
       "    </tr>\n",
       "    <tr>\n",
       "      <th>2</th>\n",
       "      <td>Month-3</td>\n",
       "      <td>Region - B</td>\n",
       "      <td>Manager - A</td>\n",
       "      <td>146278</td>\n",
       "      <td>244243</td>\n",
       "    </tr>\n",
       "    <tr>\n",
       "      <th>3</th>\n",
       "      <td>Month-4</td>\n",
       "      <td>Region - B</td>\n",
       "      <td>Manager - B</td>\n",
       "      <td>152167</td>\n",
       "      <td>231808</td>\n",
       "    </tr>\n",
       "    <tr>\n",
       "      <th>4</th>\n",
       "      <td>Month-5</td>\n",
       "      <td>Region - C</td>\n",
       "      <td>Manager - B</td>\n",
       "      <td>159525</td>\n",
       "      <td>258402</td>\n",
       "    </tr>\n",
       "  </tbody>\n",
       "</table>\n",
       "</div>"
      ],
      "text/plain": [
       "     Month      Region      Manager  Sales_before_digital_add(in $)  \\\n",
       "0  Month-1  Region - A  Manager - A                          132921   \n",
       "1  Month-2  Region - A  Manager - C                          149559   \n",
       "2  Month-3  Region - B  Manager - A                          146278   \n",
       "3  Month-4  Region - B  Manager - B                          152167   \n",
       "4  Month-5  Region - C  Manager - B                          159525   \n",
       "\n",
       "   Sales_After_digital_add(in $)  \n",
       "0                         270390  \n",
       "1                         223334  \n",
       "2                         244243  \n",
       "3                         231808  \n",
       "4                         258402  "
      ]
     },
     "execution_count": 29,
     "metadata": {},
     "output_type": "execute_result"
    }
   ],
   "source": [
    "data.head()"
   ]
  },
  {
   "cell_type": "code",
   "execution_count": 30,
   "id": "d635405e",
   "metadata": {},
   "outputs": [
    {
     "data": {
      "text/html": [
       "<div>\n",
       "<style scoped>\n",
       "    .dataframe tbody tr th:only-of-type {\n",
       "        vertical-align: middle;\n",
       "    }\n",
       "\n",
       "    .dataframe tbody tr th {\n",
       "        vertical-align: top;\n",
       "    }\n",
       "\n",
       "    .dataframe thead th {\n",
       "        text-align: right;\n",
       "    }\n",
       "</style>\n",
       "<table border=\"1\" class=\"dataframe\">\n",
       "  <thead>\n",
       "    <tr style=\"text-align: right;\">\n",
       "      <th></th>\n",
       "      <th>Sales_before_digital_add(in $)</th>\n",
       "      <th>Sales_After_digital_add(in $)</th>\n",
       "    </tr>\n",
       "  </thead>\n",
       "  <tbody>\n",
       "    <tr>\n",
       "      <th>count</th>\n",
       "      <td>22.000000</td>\n",
       "      <td>22.000000</td>\n",
       "    </tr>\n",
       "    <tr>\n",
       "      <th>mean</th>\n",
       "      <td>149239.954545</td>\n",
       "      <td>231123.727273</td>\n",
       "    </tr>\n",
       "    <tr>\n",
       "      <th>std</th>\n",
       "      <td>14844.042921</td>\n",
       "      <td>25556.777061</td>\n",
       "    </tr>\n",
       "    <tr>\n",
       "      <th>min</th>\n",
       "      <td>130263.000000</td>\n",
       "      <td>187305.000000</td>\n",
       "    </tr>\n",
       "    <tr>\n",
       "      <th>25%</th>\n",
       "      <td>138087.750000</td>\n",
       "      <td>214960.750000</td>\n",
       "    </tr>\n",
       "    <tr>\n",
       "      <th>50%</th>\n",
       "      <td>147444.000000</td>\n",
       "      <td>229986.500000</td>\n",
       "    </tr>\n",
       "    <tr>\n",
       "      <th>75%</th>\n",
       "      <td>157627.500000</td>\n",
       "      <td>250909.000000</td>\n",
       "    </tr>\n",
       "    <tr>\n",
       "      <th>max</th>\n",
       "      <td>178939.000000</td>\n",
       "      <td>276279.000000</td>\n",
       "    </tr>\n",
       "  </tbody>\n",
       "</table>\n",
       "</div>"
      ],
      "text/plain": [
       "       Sales_before_digital_add(in $)  Sales_After_digital_add(in $)\n",
       "count                       22.000000                      22.000000\n",
       "mean                    149239.954545                  231123.727273\n",
       "std                      14844.042921                   25556.777061\n",
       "min                     130263.000000                  187305.000000\n",
       "25%                     138087.750000                  214960.750000\n",
       "50%                     147444.000000                  229986.500000\n",
       "75%                     157627.500000                  250909.000000\n",
       "max                     178939.000000                  276279.000000"
      ]
     },
     "execution_count": 30,
     "metadata": {},
     "output_type": "execute_result"
    }
   ],
   "source": [
    "data.describe()"
   ]
  },
  {
   "cell_type": "code",
   "execution_count": 31,
   "id": "3b038c11",
   "metadata": {},
   "outputs": [
    {
     "data": {
      "text/plain": [
       "Month                             0\n",
       "Region                            0\n",
       "Manager                           0\n",
       "Sales_before_digital_add(in $)    0\n",
       "Sales_After_digital_add(in $)     0\n",
       "dtype: int64"
      ]
     },
     "execution_count": 31,
     "metadata": {},
     "output_type": "execute_result"
    }
   ],
   "source": [
    "#checking null value \n",
    "data.isnull().sum()"
   ]
  },
  {
   "cell_type": "markdown",
   "id": "529b2eb4",
   "metadata": {},
   "source": [
    "There are no null values in the dataset, hence it is clean."
   ]
  },
  {
   "cell_type": "code",
   "execution_count": 32,
   "id": "9994c91d",
   "metadata": {},
   "outputs": [
    {
     "name": "stdout",
     "output_type": "stream",
     "text": [
      "<class 'pandas.core.frame.DataFrame'>\n",
      "RangeIndex: 22 entries, 0 to 21\n",
      "Data columns (total 5 columns):\n",
      " #   Column                          Non-Null Count  Dtype \n",
      "---  ------                          --------------  ----- \n",
      " 0   Month                           22 non-null     object\n",
      " 1   Region                          22 non-null     object\n",
      " 2   Manager                         22 non-null     object\n",
      " 3   Sales_before_digital_add(in $)  22 non-null     int64 \n",
      " 4   Sales_After_digital_add(in $)   22 non-null     int64 \n",
      "dtypes: int64(2), object(3)\n",
      "memory usage: 1008.0+ bytes\n"
     ]
    }
   ],
   "source": [
    "# checking the columns and type\n",
    "data.info()"
   ]
  },
  {
   "cell_type": "code",
   "execution_count": 33,
   "id": "e0c6e5ff",
   "metadata": {},
   "outputs": [
    {
     "data": {
      "text/plain": [
       "(22, 5)"
      ]
     },
     "execution_count": 33,
     "metadata": {},
     "output_type": "execute_result"
    }
   ],
   "source": [
    "# checking for number of rows and columns\n",
    "data.shape"
   ]
  },
  {
   "cell_type": "markdown",
   "id": "3601b3a4",
   "metadata": {},
   "source": [
    "# 1. The company wishes to clarify whether there is any increase in sales after stepping into digital marketing.\n"
   ]
  },
  {
   "cell_type": "code",
   "execution_count": 34,
   "id": "28b89f8c",
   "metadata": {},
   "outputs": [],
   "source": [
    "before_add = data['Sales_before_digital_add(in $)']\n",
    "after_add = data['Sales_After_digital_add(in $)']"
   ]
  },
  {
   "cell_type": "code",
   "execution_count": 35,
   "id": "44fdfcc1",
   "metadata": {},
   "outputs": [
    {
     "name": "stdout",
     "output_type": "stream",
     "text": [
      "Mean of sales before Digital Marketing = 149239.95\n",
      "Mean of sales after Digital Marketing =  231123.73\n"
     ]
    }
   ],
   "source": [
    "before_add_mean = round(np.mean(before_add),2)\n",
    "after_add_mean = round(np.mean(after_add),2)\n",
    "print('Mean of sales before Digital Marketing =', before_add_mean)\n",
    "print('Mean of sales after Digital Marketing = ', after_add_mean)"
   ]
  },
  {
   "cell_type": "code",
   "execution_count": 36,
   "id": "392c2384",
   "metadata": {},
   "outputs": [
    {
     "name": "stdout",
     "output_type": "stream",
     "text": [
      "Standard Deviation in sales before Digital Marketing =  14502.75\n",
      "Standard Deviation in sales after Digital Marketing =  24969.19\n"
     ]
    }
   ],
   "source": [
    "before_add_std = round(np.std(before_add),2)\n",
    "after_add_std = round(np.std(after_add),2)\n",
    "print('Standard Deviation in sales before Digital Marketing = ', before_add_std)\n",
    "print('Standard Deviation in sales after Digital Marketing = ', after_add_std)"
   ]
  },
  {
   "cell_type": "code",
   "execution_count": 37,
   "id": "c0755fd0",
   "metadata": {},
   "outputs": [
    {
     "name": "stdout",
     "output_type": "stream",
     "text": [
      "T-statistic :  -12.09070525287017\n",
      "p-value :  3.168333502287889e-11\n"
     ]
    }
   ],
   "source": [
    "t_statistic, p_value = stats.ttest_rel(before_add, after_add, alternative = 'less')\n",
    "print('T-statistic : ', t_statistic)\n",
    "print('p-value : ', p_value)"
   ]
  },
  {
   "cell_type": "code",
   "execution_count": 38,
   "id": "441d2820",
   "metadata": {},
   "outputs": [
    {
     "name": "stdout",
     "output_type": "stream",
     "text": [
      "Reject null hypothesis\n"
     ]
    }
   ],
   "source": [
    "if p_value < 0.05:\n",
    "    print('Reject null hypothesis')\n",
    "else:\n",
    "    print('Accept null hypothesis')"
   ]
  },
  {
   "cell_type": "markdown",
   "id": "1e7472e2",
   "metadata": {},
   "source": [
    "Here, we reject the null hypothesis . So we can conclude that  there is any increase in sales after stepping into digital marketing."
   ]
  },
  {
   "cell_type": "code",
   "execution_count": 40,
   "id": "bc2d93fa",
   "metadata": {},
   "outputs": [
    {
     "name": "stdout",
     "output_type": "stream",
     "text": [
      " Average sales before digital marketing = 149239.95\n",
      " Average sales after digital marketing = 231123.73\n",
      " Difference between sales after and before digital marketing=  81883.78\n"
     ]
    }
   ],
   "source": [
    "print(' Average sales before digital marketing =', round(data['Sales_before_digital_add(in $)'].mean(),2))\n",
    "print(' Average sales after digital marketing =', round(data['Sales_After_digital_add(in $)'].mean(),2))\n",
    "Difference = round(data['Sales_After_digital_add(in $)'].mean(),2) - round(data['Sales_before_digital_add(in $)'].mean(),2)\n",
    "print(' Difference between sales after and before digital marketing= ', Difference)"
   ]
  },
  {
   "cell_type": "markdown",
   "id": "2902d02b",
   "metadata": {},
   "source": [
    "# 2. The company needs to check whether there is any dependency between the features “Region” and “Manager”."
   ]
  },
  {
   "cell_type": "code",
   "execution_count": 42,
   "id": "82e09dd5",
   "metadata": {},
   "outputs": [
    {
     "data": {
      "text/html": [
       "<div>\n",
       "<style scoped>\n",
       "    .dataframe tbody tr th:only-of-type {\n",
       "        vertical-align: middle;\n",
       "    }\n",
       "\n",
       "    .dataframe tbody tr th {\n",
       "        vertical-align: top;\n",
       "    }\n",
       "\n",
       "    .dataframe thead th {\n",
       "        text-align: right;\n",
       "    }\n",
       "</style>\n",
       "<table border=\"1\" class=\"dataframe\">\n",
       "  <thead>\n",
       "    <tr style=\"text-align: right;\">\n",
       "      <th>Manager</th>\n",
       "      <th>Manager - A</th>\n",
       "      <th>Manager - B</th>\n",
       "      <th>Manager - C</th>\n",
       "    </tr>\n",
       "    <tr>\n",
       "      <th>Region</th>\n",
       "      <th></th>\n",
       "      <th></th>\n",
       "      <th></th>\n",
       "    </tr>\n",
       "  </thead>\n",
       "  <tbody>\n",
       "    <tr>\n",
       "      <th>Region - A</th>\n",
       "      <td>4</td>\n",
       "      <td>3</td>\n",
       "      <td>3</td>\n",
       "    </tr>\n",
       "    <tr>\n",
       "      <th>Region - B</th>\n",
       "      <td>4</td>\n",
       "      <td>1</td>\n",
       "      <td>2</td>\n",
       "    </tr>\n",
       "    <tr>\n",
       "      <th>Region - C</th>\n",
       "      <td>1</td>\n",
       "      <td>3</td>\n",
       "      <td>1</td>\n",
       "    </tr>\n",
       "  </tbody>\n",
       "</table>\n",
       "</div>"
      ],
      "text/plain": [
       "Manager     Manager - A  Manager - B  Manager - C\n",
       "Region                                           \n",
       "Region - A            4            3            3\n",
       "Region - B            4            1            2\n",
       "Region - C            1            3            1"
      ]
     },
     "execution_count": 42,
     "metadata": {},
     "output_type": "execute_result"
    }
   ],
   "source": [
    "crosstab = pd.crosstab(data.Region, data.Manager)\n",
    "crosstab"
   ]
  },
  {
   "cell_type": "code",
   "execution_count": 43,
   "id": "0317c548",
   "metadata": {},
   "outputs": [
    {
     "data": {
      "text/html": [
       "<div>\n",
       "<style scoped>\n",
       "    .dataframe tbody tr th:only-of-type {\n",
       "        vertical-align: middle;\n",
       "    }\n",
       "\n",
       "    .dataframe tbody tr th {\n",
       "        vertical-align: top;\n",
       "    }\n",
       "\n",
       "    .dataframe thead th {\n",
       "        text-align: right;\n",
       "    }\n",
       "</style>\n",
       "<table border=\"1\" class=\"dataframe\">\n",
       "  <thead>\n",
       "    <tr style=\"text-align: right;\">\n",
       "      <th>Manager</th>\n",
       "      <th>Manager - A</th>\n",
       "      <th>Manager - B</th>\n",
       "      <th>Manager - C</th>\n",
       "      <th>All</th>\n",
       "    </tr>\n",
       "    <tr>\n",
       "      <th>Region</th>\n",
       "      <th></th>\n",
       "      <th></th>\n",
       "      <th></th>\n",
       "      <th></th>\n",
       "    </tr>\n",
       "  </thead>\n",
       "  <tbody>\n",
       "    <tr>\n",
       "      <th>Region - A</th>\n",
       "      <td>4</td>\n",
       "      <td>3</td>\n",
       "      <td>3</td>\n",
       "      <td>10</td>\n",
       "    </tr>\n",
       "    <tr>\n",
       "      <th>Region - B</th>\n",
       "      <td>4</td>\n",
       "      <td>1</td>\n",
       "      <td>2</td>\n",
       "      <td>7</td>\n",
       "    </tr>\n",
       "    <tr>\n",
       "      <th>Region - C</th>\n",
       "      <td>1</td>\n",
       "      <td>3</td>\n",
       "      <td>1</td>\n",
       "      <td>5</td>\n",
       "    </tr>\n",
       "    <tr>\n",
       "      <th>All</th>\n",
       "      <td>9</td>\n",
       "      <td>7</td>\n",
       "      <td>6</td>\n",
       "      <td>22</td>\n",
       "    </tr>\n",
       "  </tbody>\n",
       "</table>\n",
       "</div>"
      ],
      "text/plain": [
       "Manager     Manager - A  Manager - B  Manager - C  All\n",
       "Region                                                \n",
       "Region - A            4            3            3   10\n",
       "Region - B            4            1            2    7\n",
       "Region - C            1            3            1    5\n",
       "All                   9            7            6   22"
      ]
     },
     "execution_count": 43,
     "metadata": {},
     "output_type": "execute_result"
    }
   ],
   "source": [
    "crosstab_margins = pd.crosstab(data.Region, data.Manager, margins=True)\n",
    "crosstab_margins"
   ]
  },
  {
   "cell_type": "code",
   "execution_count": 44,
   "id": "8282b807",
   "metadata": {},
   "outputs": [],
   "source": [
    "Xtest_statistic, p_value, dof, exp_value = stats.chi2_contingency(crosstab)"
   ]
  },
  {
   "cell_type": "code",
   "execution_count": 45,
   "id": "6ea8d0a0",
   "metadata": {},
   "outputs": [
    {
     "name": "stdout",
     "output_type": "stream",
     "text": [
      "Chi-square test statistic is  3.050566893424036\n",
      "p-value is  0.5493991051158094\n",
      "Degrees of freedom is   4\n",
      "Expected values are:  [[4.09090909 3.18181818 2.72727273]\n",
      " [2.86363636 2.22727273 1.90909091]\n",
      " [2.04545455 1.59090909 1.36363636]]\n"
     ]
    }
   ],
   "source": [
    "print('Chi-square test statistic is ', Xtest_statistic)\n",
    "print('p-value is ', p_value)\n",
    "print('Degrees of freedom is  ', dof)\n",
    "print('Expected values are: ', exp_value)"
   ]
  },
  {
   "cell_type": "code",
   "execution_count": 46,
   "id": "35a23260",
   "metadata": {},
   "outputs": [
    {
     "name": "stdout",
     "output_type": "stream",
     "text": [
      "Accept null hypothesis\n"
     ]
    }
   ],
   "source": [
    "if p_value < 0.05:\n",
    "    print('Reject null hypothesis')\n",
    "else:\n",
    "    print('Accept null hypothesis')"
   ]
  },
  {
   "cell_type": "markdown",
   "id": "96436b90",
   "metadata": {},
   "source": [
    "Here,we accept null hypothesis.So we can conclude that there is no  dependency between the features “Region” and “Manager”."
   ]
  }
 ],
 "metadata": {
  "kernelspec": {
   "display_name": "Python 3",
   "language": "python",
   "name": "python3"
  },
  "language_info": {
   "codemirror_mode": {
    "name": "ipython",
    "version": 3
   },
   "file_extension": ".py",
   "mimetype": "text/x-python",
   "name": "python",
   "nbconvert_exporter": "python",
   "pygments_lexer": "ipython3",
   "version": "3.8.8"
  }
 },
 "nbformat": 4,
 "nbformat_minor": 5
}
